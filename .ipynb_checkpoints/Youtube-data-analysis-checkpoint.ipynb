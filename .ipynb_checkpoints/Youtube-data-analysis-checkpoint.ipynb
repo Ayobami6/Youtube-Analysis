{
 "cells": [
  {
   "cell_type": "code",
   "execution_count": 32,
   "metadata": {},
   "outputs": [],
   "source": [
    "import pandas as pd\n",
    "import matplotlib.pyplot as plt\n",
    "import seaborn as sns\n",
    "from googleapiclient.discovery import build"
   ]
  },
  {
   "cell_type": "code",
   "execution_count": 33,
   "metadata": {},
   "outputs": [],
   "source": [
    "import api_config"
   ]
  },
  {
   "cell_type": "code",
   "execution_count": 43,
   "metadata": {},
   "outputs": [],
   "source": [
    "channel_id = 'UC5_Q895CBrZLP7hm83uexjg'\n",
    "youtube = build('youtube', 'v3', developerKey=api_config.yt_Api_key)"
   ]
  },
  {
   "cell_type": "code",
   "execution_count": 16,
   "metadata": {},
   "outputs": [],
   "source": [
    "def get_channel_stats(youtube, channel_id):\n",
    "    request = youtube.channels().list(\n",
    "        part=\"snippet,contentDetails,statistics\",\n",
    "        id=channel_id)\n",
    "    response = request.execute()\n",
    "    data_dict = dict(channel_name = response['items'][0]['snippet']['title'],\n",
    "                     subscribers = response['items'][0]['statistics']['subscriberCount'],\n",
    "                     views = response['items'][0]['statistics']['viewCount'],\n",
    "                     videos = response['items'][0]['statistics']['videoCount'])\n",
    "                     \n",
    "\n",
    "    return data_dict"
   ]
  },
  {
   "cell_type": "code",
   "execution_count": 22,
   "metadata": {},
   "outputs": [],
   "source": [
    "data = get_channel_stats(youtube, channel_id)"
   ]
  },
  {
   "cell_type": "code",
   "execution_count": 26,
   "metadata": {},
   "outputs": [
    {
     "data": {
      "text/plain": [
       "{'channel_name': 'AY the Data Guy!',\n",
       " 'subscribers': '22',\n",
       " 'views': '157',\n",
       " 'videos': '9'}"
      ]
     },
     "execution_count": 26,
     "metadata": {},
     "output_type": "execute_result"
    }
   ],
   "source": [
    "data"
   ]
  },
  {
   "cell_type": "code",
   "execution_count": 39,
   "metadata": {},
   "outputs": [],
   "source": [
    "def get_channels(youtube):\n",
    "    request = youtube.search().list(\n",
    "        part=\"snippet,statistics,contentDetails\",\n",
    "        maxResults=25,\n",
    "        q=\"data science\",\n",
    "        type=\"channel\")\n",
    "    response = request.execute()\n",
    "    \n",
    "    \n",
    "    return response"
   ]
  },
  {
   "cell_type": "code",
   "execution_count": 36,
   "metadata": {},
   "outputs": [],
   "source": [
    "query = \"data science\""
   ]
  },
  {
   "cell_type": "code",
   "execution_count": 47,
   "metadata": {},
   "outputs": [
    {
     "name": "stdout",
     "output_type": "stream",
     "text": [
      "{'kind': 'youtube#searchListResponse', 'etag': 'sj3V2EfhIckO6p8IGupQeY-3DNE', 'nextPageToken': 'CBkQAA', 'regionCode': 'NG', 'pageInfo': {'totalResults': 1000000, 'resultsPerPage': 25}, 'items': [{'kind': 'youtube#searchResult', 'etag': '7QYRZUL4k_a6ig8q8kzHI-dyBbk', 'id': {'kind': 'youtube#video', 'videoId': 'fUpChfNN5Uo'}, 'snippet': {'publishedAt': '2020-06-10T15:49:15Z', 'channelId': 'UC7cs8q-gJRlGwj4A8OmCmXg', 'title': 'Data Scientist vs Data Analyst | Which Is Right For You?', 'description': 'Data Scientists and Data Analysts are some of the most sought after jobs in the data world. Both share a lot of similar tools, but the ...', 'thumbnails': {'default': {'url': 'https://i.ytimg.com/vi/fUpChfNN5Uo/default.jpg', 'width': 120, 'height': 90}, 'medium': {'url': 'https://i.ytimg.com/vi/fUpChfNN5Uo/mqdefault.jpg', 'width': 320, 'height': 180}, 'high': {'url': 'https://i.ytimg.com/vi/fUpChfNN5Uo/hqdefault.jpg', 'width': 480, 'height': 360}}, 'channelTitle': 'Alex The Analyst', 'liveBroadcastContent': 'none', 'publishTime': '2020-06-10T15:49:15Z'}}, {'kind': 'youtube#searchResult', 'etag': 'yRiifEr_pW8LaGlR9C3GbRPOVv8', 'id': {'kind': 'youtube#video', 'videoId': 'X3paOmcrTjQ'}, 'snippet': {'publishedAt': '2018-12-04T14:30:01Z', 'channelId': 'UCsvqVGtbbyHaMoevxPAq9Fg', 'title': 'Data Science In 5 Minutes | Data Science For Beginners | What Is Data Science? | Simplilearn', 'description': \"Enroll For Simplilearn's Data Science Job Guarantee Program: ...\", 'thumbnails': {'default': {'url': 'https://i.ytimg.com/vi/X3paOmcrTjQ/default.jpg', 'width': 120, 'height': 90}, 'medium': {'url': 'https://i.ytimg.com/vi/X3paOmcrTjQ/mqdefault.jpg', 'width': 320, 'height': 180}, 'high': {'url': 'https://i.ytimg.com/vi/X3paOmcrTjQ/hqdefault.jpg', 'width': 480, 'height': 360}}, 'channelTitle': 'Simplilearn', 'liveBroadcastContent': 'none', 'publishTime': '2018-12-04T14:30:01Z'}}, {'kind': 'youtube#searchResult', 'etag': 'ngFSwB4KsFDdk4tq3ReWImCjwwU', 'id': {'kind': 'youtube#video', 'videoId': 'XW0YptcgZSk'}, 'snippet': {'publishedAt': '2022-04-29T21:28:21Z', 'channelId': 'UCVqU1Vy3HO4Ms-pbN0r2_kg', 'title': 'Data Scientist vs Data Analyst vs Data Engineer: What&#39;s the difference?', 'description': 'Twitter: https://twitter.com/dataiku Instagram: https://www.instagram.com/dataiku/ From Joma Media https://www.joma.media/', 'thumbnails': {'default': {'url': 'https://i.ytimg.com/vi/XW0YptcgZSk/default.jpg', 'width': 120, 'height': 90}, 'medium': {'url': 'https://i.ytimg.com/vi/XW0YptcgZSk/mqdefault.jpg', 'width': 320, 'height': 180}, 'high': {'url': 'https://i.ytimg.com/vi/XW0YptcgZSk/hqdefault.jpg', 'width': 480, 'height': 360}}, 'channelTitle': 'Recall by Dataiku', 'liveBroadcastContent': 'none', 'publishTime': '2022-04-29T21:28:21Z'}}, {'kind': 'youtube#searchResult', 'etag': 'uU9m5tq8j6DFkvJYDuy8FpY8H8U', 'id': {'kind': 'youtube#video', 'videoId': 'ORYBRStrnTw'}, 'snippet': {'publishedAt': '2021-04-12T15:30:02Z', 'channelId': 'UCIssfqi_KLgyZ_YhtETI7Aw', 'title': 'What Is the Difference Between a Data Analyst and a Data Scientist?', 'description': \"WHAT IS THE DIFFERENCE BETWEEN A DATA ANALYST AND A DATA SCIENTIST? // Let's look at the scope, skills, education, ...\", 'thumbnails': {'default': {'url': 'https://i.ytimg.com/vi/ORYBRStrnTw/default.jpg', 'width': 120, 'height': 90}, 'medium': {'url': 'https://i.ytimg.com/vi/ORYBRStrnTw/mqdefault.jpg', 'width': 320, 'height': 180}, 'high': {'url': 'https://i.ytimg.com/vi/ORYBRStrnTw/hqdefault.jpg', 'width': 480, 'height': 360}}, 'channelTitle': 'Lights OnData', 'liveBroadcastContent': 'none', 'publishTime': '2021-04-12T15:30:02Z'}}, {'kind': 'youtube#searchResult', 'etag': 'ej0PwVesLg7XRMBD1Ia21d59pcg', 'id': {'kind': 'youtube#video', 'videoId': 'yFmkK94rnc0'}, 'snippet': {'publishedAt': '2020-04-29T12:44:44Z', 'channelId': 'UCObs0kLIrDjX2LLSybqNaEA', 'title': 'Data Science Vs Data Analytics | Which One Should You Choose | Great Learning', 'description': 'Looking for a career upgrade & a better salary? We can help, Choose from our no 1 ranked top programmes. 25k+ career ...', 'thumbnails': {'default': {'url': 'https://i.ytimg.com/vi/yFmkK94rnc0/default.jpg', 'width': 120, 'height': 90}, 'medium': {'url': 'https://i.ytimg.com/vi/yFmkK94rnc0/mqdefault.jpg', 'width': 320, 'height': 180}, 'high': {'url': 'https://i.ytimg.com/vi/yFmkK94rnc0/hqdefault.jpg', 'width': 480, 'height': 360}}, 'channelTitle': 'Great Learning', 'liveBroadcastContent': 'none', 'publishTime': '2020-04-29T12:44:44Z'}}, {'kind': 'youtube#searchResult', 'etag': 'sEdD3SwggT6DbAAXLgFPn_Gw9cw', 'id': {'kind': 'youtube#video', 'videoId': 'fWE93St-RaQ'}, 'snippet': {'publishedAt': '2019-01-11T07:20:40Z', 'channelId': 'UCkw4JCwteGrDHIsyIIKo4tQ', 'title': 'Data Analytics For Beginners | Introduction To Data Analytics | Data Analytics Using R | Edureka', 'description': 'Data Analytics with R Certification Training: https://www.edureka.co/data-analytics-with-r-certification-training ** This Edureka ...', 'thumbnails': {'default': {'url': 'https://i.ytimg.com/vi/fWE93St-RaQ/default.jpg', 'width': 120, 'height': 90}, 'medium': {'url': 'https://i.ytimg.com/vi/fWE93St-RaQ/mqdefault.jpg', 'width': 320, 'height': 180}, 'high': {'url': 'https://i.ytimg.com/vi/fWE93St-RaQ/hqdefault.jpg', 'width': 480, 'height': 360}}, 'channelTitle': 'edureka!', 'liveBroadcastContent': 'none', 'publishTime': '2019-01-11T07:20:40Z'}}, {'kind': 'youtube#searchResult', 'etag': 'NFHWyWhu3ZJK1lpWf4xHOt4jO9I', 'id': {'kind': 'youtube#video', 'videoId': '-ETQ97mXXF0'}, 'snippet': {'publishedAt': '2019-08-18T08:30:02Z', 'channelId': 'UCkw4JCwteGrDHIsyIIKo4tQ', 'title': 'Data Science Full Course - Learn Data Science in 10 Hours | Data Science For Beginners | Edureka', 'description': 'Data Science Master Program (Use Code \"YOUTUBE20\"): ...', 'thumbnails': {'default': {'url': 'https://i.ytimg.com/vi/-ETQ97mXXF0/default.jpg', 'width': 120, 'height': 90}, 'medium': {'url': 'https://i.ytimg.com/vi/-ETQ97mXXF0/mqdefault.jpg', 'width': 320, 'height': 180}, 'high': {'url': 'https://i.ytimg.com/vi/-ETQ97mXXF0/hqdefault.jpg', 'width': 480, 'height': 360}}, 'channelTitle': 'edureka!', 'liveBroadcastContent': 'none', 'publishTime': '2019-08-18T08:30:02Z'}}, {'kind': 'youtube#searchResult', 'etag': 'SfvcPZfDYVn1oT-foDk4JrB6YzY', 'id': {'kind': 'youtube#video', 'videoId': 'dVEdViOurR0'}, 'snippet': {'publishedAt': '2019-09-29T13:37:32Z', 'channelId': 'UCKXx22vOENUyHrVAADq7Z_g', 'title': 'Statistical data analysis | Statistical Data Science | Part 1', 'description': 'In this course you will learn how to analyze data. #Statistic plays important role in terms of data analysis. Here you will get ...', 'thumbnails': {'default': {'url': 'https://i.ytimg.com/vi/dVEdViOurR0/default.jpg', 'width': 120, 'height': 90}, 'medium': {'url': 'https://i.ytimg.com/vi/dVEdViOurR0/mqdefault.jpg', 'width': 320, 'height': 180}, 'high': {'url': 'https://i.ytimg.com/vi/dVEdViOurR0/hqdefault.jpg', 'width': 480, 'height': 360}}, 'channelTitle': \"Geek's Lesson\", 'liveBroadcastContent': 'none', 'publishTime': '2019-09-29T13:37:32Z'}}, {'kind': 'youtube#searchResult', 'etag': 'rntO7F38RA6ExfVUslPvB-95w6w', 'id': {'kind': 'youtube#video', 'videoId': 'r-uOLxNrNk8'}, 'snippet': {'publishedAt': '2020-04-15T13:19:55Z', 'channelId': 'UC8butISFwT-Wl7EV0hUK0BQ', 'title': 'Data Analysis with Python - Full Course for Beginners (Numpy, Pandas, Matplotlib, Seaborn)', 'description': 'Learn Data Analysis with Python in this comprehensive tutorial for beginners, with exercises included! NOTE: Check description ...', 'thumbnails': {'default': {'url': 'https://i.ytimg.com/vi/r-uOLxNrNk8/default.jpg', 'width': 120, 'height': 90}, 'medium': {'url': 'https://i.ytimg.com/vi/r-uOLxNrNk8/mqdefault.jpg', 'width': 320, 'height': 180}, 'high': {'url': 'https://i.ytimg.com/vi/r-uOLxNrNk8/hqdefault.jpg', 'width': 480, 'height': 360}}, 'channelTitle': 'freeCodeCamp.org', 'liveBroadcastContent': 'none', 'publishTime': '2020-04-15T13:19:55Z'}}, {'kind': 'youtube#searchResult', 'etag': 'o1LdES_Lno26ReNp5p_M55tuP9I', 'id': {'kind': 'youtube#video', 'videoId': 'ITyGQpyMV_w'}, 'snippet': {'publishedAt': '2022-08-23T09:14:36Z', 'channelId': 'UCNU_lfiiWBdtULKOw6X0Dig', 'title': 'Quick CheatSheet To Prepare For Statistics For Data Analyst And Data Scientist', 'description': 'In this I will be discussing about a super and easy clean cheat to complete stats in 7 days 7 days Live Playlist: ...', 'thumbnails': {'default': {'url': 'https://i.ytimg.com/vi/ITyGQpyMV_w/default.jpg', 'width': 120, 'height': 90}, 'medium': {'url': 'https://i.ytimg.com/vi/ITyGQpyMV_w/mqdefault.jpg', 'width': 320, 'height': 180}, 'high': {'url': 'https://i.ytimg.com/vi/ITyGQpyMV_w/hqdefault.jpg', 'width': 480, 'height': 360}}, 'channelTitle': 'Krish Naik', 'liveBroadcastContent': 'none', 'publishTime': '2022-08-23T09:14:36Z'}}, {'kind': 'youtube#searchResult', 'etag': 'MwfutdafvMmFcwscce3U0xQFIK0', 'id': {'kind': 'youtube#video', 'videoId': 'A1JN_UN3mYE'}, 'snippet': {'publishedAt': '2021-07-28T18:04:52Z', 'channelId': 'UCsvqVGtbbyHaMoevxPAq9Fg', 'title': 'Data Analyst | Data Analyst Course | Data Analytics | Data Analytics Full Course 2022 | Simplilearn', 'description': 'In this Data Analyst Full Course video, you will learn what data analytics is, why data analytics is necessary, the types of data ...', 'thumbnails': {'default': {'url': 'https://i.ytimg.com/vi/A1JN_UN3mYE/default.jpg', 'width': 120, 'height': 90}, 'medium': {'url': 'https://i.ytimg.com/vi/A1JN_UN3mYE/mqdefault.jpg', 'width': 320, 'height': 180}, 'high': {'url': 'https://i.ytimg.com/vi/A1JN_UN3mYE/hqdefault.jpg', 'width': 480, 'height': 360}}, 'channelTitle': 'Simplilearn', 'liveBroadcastContent': 'none', 'publishTime': '2021-07-28T18:04:52Z'}}, {'kind': 'youtube#searchResult', 'etag': '0aZsDB60o7cZWGDEn5G793WKGDw', 'id': {'kind': 'youtube#video', 'videoId': 'ua-CiDNNj30'}, 'snippet': {'publishedAt': '2019-05-30T12:48:19Z', 'channelId': 'UC8butISFwT-Wl7EV0hUK0BQ', 'title': 'Learn Data Science Tutorial - Full Course for Beginners', 'description': 'Learn Data Science is this full tutorial course for absolute beginners. Data science is considered the \"sexiest job of the 21st ...', 'thumbnails': {'default': {'url': 'https://i.ytimg.com/vi/ua-CiDNNj30/default.jpg', 'width': 120, 'height': 90}, 'medium': {'url': 'https://i.ytimg.com/vi/ua-CiDNNj30/mqdefault.jpg', 'width': 320, 'height': 180}, 'high': {'url': 'https://i.ytimg.com/vi/ua-CiDNNj30/hqdefault.jpg', 'width': 480, 'height': 360}}, 'channelTitle': 'freeCodeCamp.org', 'liveBroadcastContent': 'none', 'publishTime': '2019-05-30T12:48:19Z'}}, {'kind': 'youtube#searchResult', 'etag': '8qZgxoT0Aq0yStDukItT_OPNwEw', 'id': {'kind': 'youtube#video', 'videoId': 'GPVsHOlRBBI'}, 'snippet': {'publishedAt': '2021-02-18T17:03:50Z', 'channelId': 'UC8butISFwT-Wl7EV0hUK0BQ', 'title': 'Data Analysis with Python Course - Numpy, Pandas, Data Visualization', 'description': 'Learn the basics of Python, Numpy, Pandas, Data Visualization, and Exploratory Data Analysis in this course for beginners.', 'thumbnails': {'default': {'url': 'https://i.ytimg.com/vi/GPVsHOlRBBI/default.jpg', 'width': 120, 'height': 90}, 'medium': {'url': 'https://i.ytimg.com/vi/GPVsHOlRBBI/mqdefault.jpg', 'width': 320, 'height': 180}, 'high': {'url': 'https://i.ytimg.com/vi/GPVsHOlRBBI/hqdefault.jpg', 'width': 480, 'height': 360}}, 'channelTitle': 'freeCodeCamp.org', 'liveBroadcastContent': 'none', 'publishTime': '2021-02-18T17:03:50Z'}}, {'kind': 'youtube#searchResult', 'etag': 'Zysdoe4ZpKoXrrkkES32WAyLQtQ', 'id': {'kind': 'youtube#video', 'videoId': '0QYhaFyftLM'}, 'snippet': {'publishedAt': '2019-06-17T14:56:45Z', 'channelId': 'UCCktnahuRFYIBtNnKT5IYyg', 'title': 'Data Scientist vs Data Analyst vs Data Engineer - Role, Skills, Salary, Demand | Intellipaat', 'description': \"Intellipaat Data Science Architect Master's course: http://bit.ly/2MTKgR1 In this video you will learn about the difference between ...\", 'thumbnails': {'default': {'url': 'https://i.ytimg.com/vi/0QYhaFyftLM/default.jpg', 'width': 120, 'height': 90}, 'medium': {'url': 'https://i.ytimg.com/vi/0QYhaFyftLM/mqdefault.jpg', 'width': 320, 'height': 180}, 'high': {'url': 'https://i.ytimg.com/vi/0QYhaFyftLM/hqdefault.jpg', 'width': 480, 'height': 360}}, 'channelTitle': 'Intellipaat', 'liveBroadcastContent': 'none', 'publishTime': '2019-06-17T14:56:45Z'}}, {'kind': 'youtube#searchResult', 'etag': 'zAYmXOUdhrgwJ9ivp0SH8ncSllo', 'id': {'kind': 'youtube#video', 'videoId': 'yZvFH7B6gKI'}, 'snippet': {'publishedAt': '2021-03-25T13:13:45Z', 'channelId': 'UCzAF54cHk1ZO82af-8E3qOQ', 'title': 'What Is Data Analytics? - An Introduction (Full Guide)', 'description': 'What exactly is data analytics? What would you be doing as a data analyst, and what kind of hard and soft skills do you need to ...', 'thumbnails': {'default': {'url': 'https://i.ytimg.com/vi/yZvFH7B6gKI/default.jpg', 'width': 120, 'height': 90}, 'medium': {'url': 'https://i.ytimg.com/vi/yZvFH7B6gKI/mqdefault.jpg', 'width': 320, 'height': 180}, 'high': {'url': 'https://i.ytimg.com/vi/yZvFH7B6gKI/hqdefault.jpg', 'width': 480, 'height': 360}}, 'channelTitle': 'CareerFoundry', 'liveBroadcastContent': 'none', 'publishTime': '2021-03-25T13:13:45Z'}}, {'kind': 'youtube#searchResult', 'etag': 'jYbCtmrMD5B-ZacQSOx0xydMAV8', 'id': {'kind': 'youtube#video', 'videoId': 'lgCNTuLBMK4'}, 'snippet': {'publishedAt': '2021-09-30T10:00:32Z', 'channelId': 'UCzAF54cHk1ZO82af-8E3qOQ', 'title': 'A Beginners Guide To The Data Analysis Process', 'description': 'What is the data analysis process? What steps are involved, and how do they relate to the wider discipline of data analytics?', 'thumbnails': {'default': {'url': 'https://i.ytimg.com/vi/lgCNTuLBMK4/default.jpg', 'width': 120, 'height': 90}, 'medium': {'url': 'https://i.ytimg.com/vi/lgCNTuLBMK4/mqdefault.jpg', 'width': 320, 'height': 180}, 'high': {'url': 'https://i.ytimg.com/vi/lgCNTuLBMK4/hqdefault.jpg', 'width': 480, 'height': 360}}, 'channelTitle': 'CareerFoundry', 'liveBroadcastContent': 'none', 'publishTime': '2021-09-30T10:00:32Z'}}, {'kind': 'youtube#searchResult', 'etag': 'u-Vl9jf9imHAcAz03mIUQDcWryY', 'id': {'kind': 'youtube#video', 'videoId': 'hH4Oy-FrPVk'}, 'snippet': {'publishedAt': '2019-12-22T08:53:16Z', 'channelId': 'UCCktnahuRFYIBtNnKT5IYyg', 'title': 'Data Science vs Data Analytics |  Difference between Data Science and Data Analytics | Intellipaat', 'description': 'Intellipaat Data Science Architect training: https://intellipaat.com/data-science-architect-masters-program-training/ In this video on ...', 'thumbnails': {'default': {'url': 'https://i.ytimg.com/vi/hH4Oy-FrPVk/default.jpg', 'width': 120, 'height': 90}, 'medium': {'url': 'https://i.ytimg.com/vi/hH4Oy-FrPVk/mqdefault.jpg', 'width': 320, 'height': 180}, 'high': {'url': 'https://i.ytimg.com/vi/hH4Oy-FrPVk/hqdefault.jpg', 'width': 480, 'height': 360}}, 'channelTitle': 'Intellipaat', 'liveBroadcastContent': 'none', 'publishTime': '2019-12-22T08:53:16Z'}}, {'kind': 'youtube#searchResult', 'etag': 'EW-7yTPXs9Nyrh_76MqJp8Dit-Q', 'id': {'kind': 'youtube#video', 'videoId': 'tRCGGlMI19M'}, 'snippet': {'publishedAt': '2022-08-23T10:30:19Z', 'channelId': 'UC7cs8q-gJRlGwj4A8OmCmXg', 'title': 'Interviewing Ken Jee | The Face of Data Science on YouTube', 'description': 'I had the honor of interviewing Ken Jee at the Content Creator Meetup in Salt Lake City this year! I hope you enjoy the ...', 'thumbnails': {'default': {'url': 'https://i.ytimg.com/vi/tRCGGlMI19M/default.jpg', 'width': 120, 'height': 90}, 'medium': {'url': 'https://i.ytimg.com/vi/tRCGGlMI19M/mqdefault.jpg', 'width': 320, 'height': 180}, 'high': {'url': 'https://i.ytimg.com/vi/tRCGGlMI19M/hqdefault.jpg', 'width': 480, 'height': 360}}, 'channelTitle': 'Alex The Analyst', 'liveBroadcastContent': 'none', 'publishTime': '2022-08-23T10:30:19Z'}}, {'kind': 'youtube#searchResult', 'etag': 'I495pM9dZWQSG1Z5lZ87ypkc8yI', 'id': {'kind': 'youtube#video', 'videoId': 'd73vYX8gsuQ'}, 'snippet': {'publishedAt': '2021-02-17T18:34:29Z', 'channelId': 'UCCktnahuRFYIBtNnKT5IYyg', 'title': 'Data Analytics for Beginners | Data Analytics Training | Data Analytics Course | Intellipaat', 'description': 'Intellipaat Data Analytics Training: https://intellipaat.com/data-analytics-master-training-course/ In this Data Analytics for beginners ...', 'thumbnails': {'default': {'url': 'https://i.ytimg.com/vi/d73vYX8gsuQ/default.jpg', 'width': 120, 'height': 90}, 'medium': {'url': 'https://i.ytimg.com/vi/d73vYX8gsuQ/mqdefault.jpg', 'width': 320, 'height': 180}, 'high': {'url': 'https://i.ytimg.com/vi/d73vYX8gsuQ/hqdefault.jpg', 'width': 480, 'height': 360}}, 'channelTitle': 'Intellipaat', 'liveBroadcastContent': 'none', 'publishTime': '2021-02-17T18:34:29Z'}}, {'kind': 'youtube#searchResult', 'etag': '9ko_HkloM97wEJbdVbR9YG4Z5jg', 'id': {'kind': 'youtube#video', 'videoId': 'T08eJt9DlgU'}, 'snippet': {'publishedAt': '2022-03-24T10:39:28Z', 'channelId': 'UCzAF54cHk1ZO82af-8E3qOQ', 'title': 'Data Scientist vs Data Analyst - Which Is Right For You? (2022)', 'description': \"What's the difference between Data Science and Data Analytics? Both roles are in huge demand at the moment, so let's define ...\", 'thumbnails': {'default': {'url': 'https://i.ytimg.com/vi/T08eJt9DlgU/default.jpg', 'width': 120, 'height': 90}, 'medium': {'url': 'https://i.ytimg.com/vi/T08eJt9DlgU/mqdefault.jpg', 'width': 320, 'height': 180}, 'high': {'url': 'https://i.ytimg.com/vi/T08eJt9DlgU/hqdefault.jpg', 'width': 480, 'height': 360}}, 'channelTitle': 'CareerFoundry', 'liveBroadcastContent': 'none', 'publishTime': '2022-03-24T10:39:28Z'}}, {'kind': 'youtube#searchResult', 'etag': 'iTMRiDeE9RfSCgxvLPsPh3PS8Hg', 'id': {'kind': 'youtube#video', 'videoId': 't2oOFs4WgI0'}, 'snippet': {'publishedAt': '2018-03-02T16:36:50Z', 'channelId': 'UCsT0YIqwnpJCM-mx7-gSA4Q', 'title': 'Beyond the Numbers: A Data Analyst Journey | Anna Leach | TEDxPSU', 'description': \"When doing data analysis, investing time with people and the process of analyzing data, as well as it's resources, will allow you to ...\", 'thumbnails': {'default': {'url': 'https://i.ytimg.com/vi/t2oOFs4WgI0/default.jpg', 'width': 120, 'height': 90}, 'medium': {'url': 'https://i.ytimg.com/vi/t2oOFs4WgI0/mqdefault.jpg', 'width': 320, 'height': 180}, 'high': {'url': 'https://i.ytimg.com/vi/t2oOFs4WgI0/hqdefault.jpg', 'width': 480, 'height': 360}}, 'channelTitle': 'TEDx Talks', 'liveBroadcastContent': 'none', 'publishTime': '2018-03-02T16:36:50Z'}}, {'kind': 'youtube#searchResult', 'etag': '8KNrM87WqwZqypcyl3HekNsQoPQ', 'id': {'kind': 'youtube#channel', 'channelId': 'UCB2p-jaoolkv0h22m4I9l9Q'}, 'snippet': {'publishedAt': '2018-06-15T16:06:26Z', 'channelId': 'UCB2p-jaoolkv0h22m4I9l9Q', 'title': 'Data Science Analytics', 'description': '', 'thumbnails': {'default': {'url': 'https://yt3.ggpht.com/ytc/AMLnZu_e8ZqFemAG4CuUX3BS_5wvawksNfeEwZsV1g=s88-c-k-c0xffffffff-no-rj-mo'}, 'medium': {'url': 'https://yt3.ggpht.com/ytc/AMLnZu_e8ZqFemAG4CuUX3BS_5wvawksNfeEwZsV1g=s240-c-k-c0xffffffff-no-rj-mo'}, 'high': {'url': 'https://yt3.ggpht.com/ytc/AMLnZu_e8ZqFemAG4CuUX3BS_5wvawksNfeEwZsV1g=s800-c-k-c0xffffffff-no-rj-mo'}}, 'channelTitle': 'Data Science Analytics', 'liveBroadcastContent': 'none', 'publishTime': '2018-06-15T16:06:26Z'}}, {'kind': 'youtube#searchResult', 'etag': 'NZsRx2kJkMqXa5FEwgrWSk9qLho', 'id': {'kind': 'youtube#video', 'videoId': 'jcTj6FgWOpo'}, 'snippet': {'publishedAt': '2021-06-16T13:55:43Z', 'channelId': 'UC8butISFwT-Wl7EV0hUK0BQ', 'title': 'Data Analytics Crash Course: Teach Yourself in 30 Days', 'description': 'The course is an introduction to Python-based data analytics. You will get a basic understanding of the workings of Python to the ...', 'thumbnails': {'default': {'url': 'https://i.ytimg.com/vi/jcTj6FgWOpo/default.jpg', 'width': 120, 'height': 90}, 'medium': {'url': 'https://i.ytimg.com/vi/jcTj6FgWOpo/mqdefault.jpg', 'width': 320, 'height': 180}, 'high': {'url': 'https://i.ytimg.com/vi/jcTj6FgWOpo/hqdefault.jpg', 'width': 480, 'height': 360}}, 'channelTitle': 'freeCodeCamp.org', 'liveBroadcastContent': 'none', 'publishTime': '2021-06-16T13:55:43Z'}}, {'kind': 'youtube#searchResult', 'etag': 'IlpBS7-ewqwU8uCLVu1RzTswaiQ', 'id': {'kind': 'youtube#video', 'videoId': 'OOWAk2aLEfk'}, 'snippet': {'publishedAt': '2021-02-08T15:30:01Z', 'channelId': 'UCsvqVGtbbyHaMoevxPAq9Fg', 'title': 'Excel Data Analytics Full Course | Essential Skills For Data Analysis In Excel | Simplilearn', 'description': 'Free Data Analytics Course: ...', 'thumbnails': {'default': {'url': 'https://i.ytimg.com/vi/OOWAk2aLEfk/default.jpg', 'width': 120, 'height': 90}, 'medium': {'url': 'https://i.ytimg.com/vi/OOWAk2aLEfk/mqdefault.jpg', 'width': 320, 'height': 180}, 'high': {'url': 'https://i.ytimg.com/vi/OOWAk2aLEfk/hqdefault.jpg', 'width': 480, 'height': 360}}, 'channelTitle': 'Simplilearn', 'liveBroadcastContent': 'none', 'publishTime': '2021-02-08T15:30:01Z'}}, {'kind': 'youtube#searchResult', 'etag': 'NBshp9MEIh13Li9WUQUuBVXYumY', 'id': {'kind': 'youtube#video', 'videoId': 'LHBE6Q9XlzI'}, 'snippet': {'publishedAt': '2020-06-02T14:05:17Z', 'channelId': 'UC8butISFwT-Wl7EV0hUK0BQ', 'title': 'Python for Data Science - Course for Beginners (Learn Python, Pandas, NumPy, Matplotlib)', 'description': 'This Python data science course will take you from knowing nothing about Python to coding and analyzing data with Python using ...', 'thumbnails': {'default': {'url': 'https://i.ytimg.com/vi/LHBE6Q9XlzI/default.jpg', 'width': 120, 'height': 90}, 'medium': {'url': 'https://i.ytimg.com/vi/LHBE6Q9XlzI/mqdefault.jpg', 'width': 320, 'height': 180}, 'high': {'url': 'https://i.ytimg.com/vi/LHBE6Q9XlzI/hqdefault.jpg', 'width': 480, 'height': 360}}, 'channelTitle': 'freeCodeCamp.org', 'liveBroadcastContent': 'none', 'publishTime': '2020-06-02T14:05:17Z'}}]}\n"
     ]
    }
   ],
   "source": [
    "request = youtube.search().list(\n",
    "        part=\"snippet,statistics,contentDetails\",\n",
    "        maxResults=100,\n",
    "        q=\"data science | data analysis\"\n",
    "    )\n",
    "response = request.execute()\n",
    "\n",
    "for i in range(len(response['items'])):\n",
    "\n",
    "print(response)"
   ]
  }
 ],
 "metadata": {
  "kernelspec": {
   "display_name": "Python 3 (ipykernel)",
   "language": "python",
   "name": "python3"
  },
  "language_info": {
   "codemirror_mode": {
    "name": "ipython",
    "version": 3
   },
   "file_extension": ".py",
   "mimetype": "text/x-python",
   "name": "python",
   "nbconvert_exporter": "python",
   "pygments_lexer": "ipython3",
   "version": "3.9.7"
  },
  "vscode": {
   "interpreter": {
    "hash": "92c3caed2cbcebea5ea684e2b26c9507bafede965983d97a09f7d91176981475"
   }
  }
 },
 "nbformat": 4,
 "nbformat_minor": 4
}
